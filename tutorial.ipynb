{
 "cells": [
  {
   "cell_type": "markdown",
   "metadata": {},
   "source": [
    "Para crear el ambiente: \n",
    "```\n",
    "conda create -n torch-tuto\n",
    "conda activate torch-tuto\n",
    "```  \n",
    "Para instalar PyTorch:\n",
    "```\n",
    "conda install pytorch torchvision torchaudio cpuonly -c pytorch\n",
    "```\n",
    "Otras librerías para correr este notebook:\n",
    "```\n",
    "conda install jupyter ipykernel matplotlib tqdm\n",
    "```"
   ]
  },
  {
   "cell_type": "markdown",
   "metadata": {},
   "source": [
    "### Tensores"
   ]
  },
  {
   "cell_type": "code",
   "execution_count": 1,
   "metadata": {},
   "outputs": [],
   "source": [
    "import torch"
   ]
  },
  {
   "cell_type": "code",
   "execution_count": 5,
   "metadata": {},
   "outputs": [
    {
     "data": {
      "text/plain": [
       "tensor([ 0.0000,  2.5000,  5.0000,  7.5000, 10.0000])"
      ]
     },
     "execution_count": 5,
     "metadata": {},
     "output_type": "execute_result"
    }
   ],
   "source": [
    "torch.zeros(5)\n",
    "torch.ones(5)\n",
    "torch.linspace(0, 10, 5)"
   ]
  },
  {
   "cell_type": "code",
   "execution_count": 10,
   "metadata": {},
   "outputs": [
    {
     "data": {
      "text/plain": [
       "tensor([1., 2., 3., 4., 5.])"
      ]
     },
     "execution_count": 10,
     "metadata": {},
     "output_type": "execute_result"
    }
   ],
   "source": [
    "lista = [1, 2, 3, 4, 5]\n",
    "torch.Tensor(lista)"
   ]
  },
  {
   "cell_type": "code",
   "execution_count": 15,
   "metadata": {},
   "outputs": [
    {
     "data": {
      "text/plain": [
       "tensor([-0.1826, -0.2292,  1.4246, -1.1732, -0.0185, -1.0787,  0.5523, -0.2149,\n",
       "         0.3687, -0.5535], dtype=torch.float64)"
      ]
     },
     "execution_count": 15,
     "metadata": {},
     "output_type": "execute_result"
    }
   ],
   "source": [
    "import numpy as np\n",
    "numpy_array = np.random.randn(10)\n",
    "torch_array = torch.from_numpy(numpy_array)\n",
    "torch_array"
   ]
  },
  {
   "cell_type": "code",
   "execution_count": 18,
   "metadata": {},
   "outputs": [
    {
     "data": {
      "text/plain": [
       "array([-0.18257655, -0.22915213,  1.42461773, -1.17317587, -0.01852245,\n",
       "       -1.07873696,  0.55228993, -0.21494004,  0.36873081, -0.55345431])"
      ]
     },
     "execution_count": 18,
     "metadata": {},
     "output_type": "execute_result"
    }
   ],
   "source": [
    "torch_array.numpy()"
   ]
  },
  {
   "cell_type": "markdown",
   "metadata": {},
   "source": [
    "### Atributos"
   ]
  },
  {
   "cell_type": "code",
   "execution_count": 20,
   "metadata": {},
   "outputs": [
    {
     "data": {
      "text/plain": [
       "(3, torch.Size([10, 20, 30]), torch.float32)"
      ]
     },
     "execution_count": 20,
     "metadata": {},
     "output_type": "execute_result"
    }
   ],
   "source": [
    "a = torch.randn(10, 20, 30)\n",
    "a.ndim, a.shape, a.dtype"
   ]
  },
  {
   "cell_type": "code",
   "execution_count": 23,
   "metadata": {},
   "outputs": [
    {
     "data": {
      "text/plain": [
       "tensor([0., 1., 2., 3., 4., 5., 6., 7., 8., 9.])"
      ]
     },
     "execution_count": 23,
     "metadata": {},
     "output_type": "execute_result"
    }
   ],
   "source": [
    "a = torch.linspace(0, 9, 10)\n",
    "a"
   ]
  },
  {
   "cell_type": "code",
   "execution_count": 24,
   "metadata": {},
   "outputs": [
    {
     "data": {
      "text/plain": [
       "tensor([[0., 1., 2., 3., 4.],\n",
       "        [5., 6., 7., 8., 9.]])"
      ]
     },
     "execution_count": 24,
     "metadata": {},
     "output_type": "execute_result"
    }
   ],
   "source": [
    "b = a.reshape(2, 5)\n",
    "b"
   ]
  },
  {
   "cell_type": "code",
   "execution_count": 25,
   "metadata": {},
   "outputs": [
    {
     "data": {
      "text/plain": [
       "tensor([[0., 5.],\n",
       "        [1., 6.],\n",
       "        [2., 7.],\n",
       "        [3., 8.],\n",
       "        [4., 9.]])"
      ]
     },
     "execution_count": 25,
     "metadata": {},
     "output_type": "execute_result"
    }
   ],
   "source": [
    "b.T"
   ]
  },
  {
   "cell_type": "code",
   "execution_count": 26,
   "metadata": {},
   "outputs": [
    {
     "data": {
      "text/plain": [
       "tensor([0., 1., 2., 3., 4., 5., 6., 7., 8., 9.])"
      ]
     },
     "execution_count": 26,
     "metadata": {},
     "output_type": "execute_result"
    }
   ],
   "source": [
    "b.flatten()"
   ]
  },
  {
   "cell_type": "code",
   "execution_count": 27,
   "metadata": {},
   "outputs": [
    {
     "data": {
      "text/plain": [
       "(tensor([[[0., 1., 2., 3., 4.]],\n",
       " \n",
       "         [[5., 6., 7., 8., 9.]]]),\n",
       " torch.Size([2, 1, 5]))"
      ]
     },
     "execution_count": 27,
     "metadata": {},
     "output_type": "execute_result"
    }
   ],
   "source": [
    "c = b.unsqueeze(1)\n",
    "c, c.shape"
   ]
  },
  {
   "cell_type": "code",
   "execution_count": 30,
   "metadata": {},
   "outputs": [
    {
     "data": {
      "text/plain": [
       "tensor([[0., 1., 2., 3., 4.],\n",
       "        [5., 6., 7., 8., 9.]])"
      ]
     },
     "execution_count": 30,
     "metadata": {},
     "output_type": "execute_result"
    }
   ],
   "source": [
    "c.squeeze()"
   ]
  },
  {
   "cell_type": "markdown",
   "metadata": {},
   "source": [
    "### Calculos"
   ]
  },
  {
   "cell_type": "code",
   "execution_count": 31,
   "metadata": {},
   "outputs": [
    {
     "data": {
      "text/plain": [
       "tensor([0., 1., 2., 3., 4., 5.])"
      ]
     },
     "execution_count": 31,
     "metadata": {},
     "output_type": "execute_result"
    }
   ],
   "source": [
    "data = torch.linspace(0, 5, steps=6)\n",
    "data"
   ]
  },
  {
   "cell_type": "code",
   "execution_count": 32,
   "metadata": {},
   "outputs": [
    {
     "data": {
      "text/plain": [
       "tensor([ 5.,  6.,  7.,  8.,  9., 10.])"
      ]
     },
     "execution_count": 32,
     "metadata": {},
     "output_type": "execute_result"
    }
   ],
   "source": [
    "data + 5"
   ]
  },
  {
   "cell_type": "code",
   "execution_count": 33,
   "metadata": {},
   "outputs": [
    {
     "data": {
      "text/plain": [
       "tensor([ 0.,  1.,  4.,  9., 16., 25.])"
      ]
     },
     "execution_count": 33,
     "metadata": {},
     "output_type": "execute_result"
    }
   ],
   "source": [
    "data.pow(2)"
   ]
  },
  {
   "cell_type": "code",
   "execution_count": 34,
   "metadata": {},
   "outputs": [
    {
     "data": {
      "text/plain": [
       "tensor([4., 5.])"
      ]
     },
     "execution_count": 34,
     "metadata": {},
     "output_type": "execute_result"
    }
   ],
   "source": [
    "mask = data > 3\n",
    "data[mask]"
   ]
  },
  {
   "cell_type": "markdown",
   "metadata": {},
   "source": [
    "### Construcción de redes neuronakles"
   ]
  },
  {
   "cell_type": "markdown",
   "metadata": {},
   "source": [
    "```\n",
    "y = w*x + b\n",
    "```"
   ]
  },
  {
   "cell_type": "code",
   "execution_count": 44,
   "metadata": {},
   "outputs": [
    {
     "data": {
      "text/plain": [
       "(Parameter containing:\n",
       " tensor([[ 0.1771,  0.4426, -0.4689],\n",
       "         [ 0.1046,  0.2171, -0.3273]], requires_grad=True),\n",
       " Parameter containing:\n",
       " tensor([0.1094, 0.0646], requires_grad=True))"
      ]
     },
     "execution_count": 44,
     "metadata": {},
     "output_type": "execute_result"
    }
   ],
   "source": [
    "import torch.nn as nn\n",
    "\n",
    "capa = nn.Linear(3, 2)\n",
    "capa.weight, capa.bias"
   ]
  },
  {
   "cell_type": "markdown",
   "metadata": {},
   "source": [
    "<img src=\"data/ej1.jpg\"  width=\"1000\" height=\"600\">\n"
   ]
  },
  {
   "cell_type": "code",
   "execution_count": 45,
   "metadata": {},
   "outputs": [
    {
     "data": {
      "text/plain": [
       "0.26020000000000004"
      ]
     },
     "execution_count": 45,
     "metadata": {},
     "output_type": "execute_result"
    }
   ],
   "source": [
    "0.1771 * 1 + 0.4426 * 1 - 0.4689 * 1 + 0.1094"
   ]
  },
  {
   "cell_type": "code",
   "execution_count": 47,
   "metadata": {},
   "outputs": [
    {
     "data": {
      "text/plain": [
       "0.05900000000000001"
      ]
     },
     "execution_count": 47,
     "metadata": {},
     "output_type": "execute_result"
    }
   ],
   "source": [
    "0.1046 * 1 + 0.2171 * 1 - 0.3273 * 1 + 0.0646"
   ]
  },
  {
   "cell_type": "code",
   "execution_count": 53,
   "metadata": {},
   "outputs": [
    {
     "data": {
      "text/plain": [
       "tensor([0.2601, 0.0590], grad_fn=<ViewBackward0>)"
      ]
     },
     "execution_count": 53,
     "metadata": {},
     "output_type": "execute_result"
    }
   ],
   "source": [
    "salida = capa.forward(torch.Tensor([1, 1, 1]))\n",
    "salida"
   ]
  },
  {
   "cell_type": "markdown",
   "metadata": {},
   "source": [
    "### Funciones de activacion"
   ]
  },
  {
   "cell_type": "markdown",
   "metadata": {},
   "source": [
    "$$\n",
    "\\text{ReLU}(x) = \\max(0, x)\n",
    "$$\n",
    "$$\n",
    "\\text{Sigmoide}(x) = \\frac{1}{1 + e^{-x}}\n",
    "$$"
   ]
  },
  {
   "cell_type": "code",
   "execution_count": 59,
   "metadata": {},
   "outputs": [
    {
     "data": {
      "image/png": "[encoded data removed]",
      "text/plain": [
       "<Figure size 500x200 with 2 Axes>"
      ]
     },
     "metadata": {},
     "output_type": "display_data"
    }
   ],
   "source": [
    "%matplotlib inline\n",
    "from matplotlib import pyplot as plt\n",
    "\n",
    "data = torch.linspace(-5, 5, steps=100)\n",
    "activations = [nn.Sigmoid(), nn.ReLU()]\n",
    "nombres = ['Sigmoid', 'ReLU']\n",
    "fig, ax = plt.subplots(1, len(activations), figsize=(5, 2), tight_layout=True)\n",
    "for activation, ax_,nombre,out in zip(activations, ax, nombres,salida):\n",
    "    ax_.set_title(nombre + \" \"+ str(format(activation(out).item(), '.2f')))\n",
    "    ax_.plot(data, activation(data))"
   ]
  },
  {
   "cell_type": "markdown",
   "metadata": {},
   "source": [
    "### Funciones de costo y optimizadores"
   ]
  },
  {
   "cell_type": "markdown",
   "metadata": {},
   "source": [
    "Para entrenar una red neuronal debemos definir\n",
    "\n",
    "- Una función de costo: Aquello que vamos a minimizar\n",
    "\n",
    "- Un algoritmo de optimización: De que forma vamos a minimizar"
   ]
  },
  {
   "cell_type": "markdown",
   "metadata": {},
   "source": [
    "Con las redes neuronales se suelen solucionar 2 tipos de problemas, problemas de regresión y problemas de clasificación.\n",
    "    \n",
    "Para problemas de regresión se suele utilizar la función de costo ```MSE (Mean Squared Error)``` y para problemas de clasificación se suele utilizar la función de costo ```CrossEntropyLoss```."
   ]
  },
  {
   "cell_type": "code",
   "execution_count": 64,
   "metadata": {},
   "outputs": [
    {
     "data": {
      "text/plain": [
       "tensor([-2.1517, -0.4198,  0.6185,  0.8528,  0.0899], requires_grad=True)"
      ]
     },
     "metadata": {},
     "output_type": "display_data"
    },
    {
     "data": {
      "text/plain": [
       "tensor([ 1.6861,  0.1425,  0.5247,  0.6918, -0.8938])"
      ]
     },
     "metadata": {},
     "output_type": "display_data"
    }
   ],
   "source": [
    "criterion = nn.MSELoss(reduction='mean')\n",
    "output = torch.randn(5, requires_grad=True)\n",
    "target = torch.randn(5)\n",
    "display(output,target)"
   ]
  },
  {
   "cell_type": "code",
   "execution_count": 65,
   "metadata": {},
   "outputs": [
    {
     "data": {
      "text/plain": [
       "tensor(3.2094, grad_fn=<MseLossBackward0>)"
      ]
     },
     "execution_count": 65,
     "metadata": {},
     "output_type": "execute_result"
    }
   ],
   "source": [
    "loss = criterion(output, target)\n",
    "loss"
   ]
  },
  {
   "cell_type": "code",
   "execution_count": 76,
   "metadata": {},
   "outputs": [
    {
     "data": {
      "text/plain": [
       "tensor([[-1.4901, -0.0658,  0.4889, -0.3192,  1.9208],\n",
       "        [-0.8216,  1.3500,  0.9491, -0.8048, -1.3373],\n",
       "        [ 0.1062, -0.0797, -1.2382, -1.3408,  0.7300],\n",
       "        [-0.8001, -0.6898, -1.6220, -1.0992,  0.5095],\n",
       "        [ 0.6704,  1.2367, -1.2366, -1.1494, -0.1815]], requires_grad=True)"
      ]
     },
     "metadata": {},
     "output_type": "display_data"
    },
    {
     "data": {
      "text/plain": [
       "tensor([2, 0, 4, 0, 0])"
      ]
     },
     "metadata": {},
     "output_type": "display_data"
    }
   ],
   "source": [
    "import torch.nn.functional as F\n",
    "\n",
    "criterion = nn.CrossEntropyLoss() #Softmax \n",
    "output = torch.randn(5,5, requires_grad=True)\n",
    "target = torch.empty(5, dtype=torch.long).random_(5)\n",
    "display(output,target)"
   ]
  },
  {
   "cell_type": "code",
   "execution_count": 77,
   "metadata": {},
   "outputs": [
    {
     "data": {
      "text/plain": [
       "tensor(1.7408, grad_fn=<NllLossBackward0>)"
      ]
     },
     "execution_count": 77,
     "metadata": {},
     "output_type": "execute_result"
    }
   ],
   "source": [
    "loss = criterion(output, target)\n",
    "loss"
   ]
  },
  {
   "cell_type": "markdown",
   "metadata": {},
   "source": [
    "Para el algoritmo de optimización se suele utilizar el algoritmo ```SGD (Stochastic Gradient Descent)``` o ```Adam```."
   ]
  },
  {
   "cell_type": "code",
   "execution_count": 127,
   "metadata": {},
   "outputs": [
    {
     "data": {
      "text/plain": [
       "tensor([[  0.],\n",
       "        [ 10.],\n",
       "        [ 20.],\n",
       "        [ 30.],\n",
       "        [ 40.],\n",
       "        [ 50.],\n",
       "        [ 60.],\n",
       "        [ 70.],\n",
       "        [ 80.],\n",
       "        [ 90.],\n",
       "        [100.]])"
      ]
     },
     "execution_count": 127,
     "metadata": {},
     "output_type": "execute_result"
    }
   ],
   "source": [
    "X = torch.tensor([0,10,20,30,40,50,60,70,80,90,100], dtype=torch.float32).unsqueeze(1)\n",
    "y = torch.tensor([32.0,50.0,68.0,86.0,104.0,122.0,140.0,158.0,176.0,194.0,212.0]).unsqueeze(1)\n",
    "X"
   ]
  },
  {
   "cell_type": "code",
   "execution_count": 112,
   "metadata": {},
   "outputs": [
    {
     "data": {
      "text/plain": [
       "tensor([[ 32.],\n",
       "        [ 50.],\n",
       "        [ 68.],\n",
       "        [ 86.],\n",
       "        [104.],\n",
       "        [122.],\n",
       "        [140.],\n",
       "        [158.],\n",
       "        [176.],\n",
       "        [194.],\n",
       "        [212.]])"
      ]
     },
     "execution_count": 112,
     "metadata": {},
     "output_type": "execute_result"
    }
   ],
   "source": [
    "y"
   ]
  },
  {
   "cell_type": "code",
   "execution_count": 128,
   "metadata": {},
   "outputs": [
    {
     "data": {
      "text/plain": [
       "tensor([[ -0.6716],\n",
       "        [-10.1685],\n",
       "        [-19.6653],\n",
       "        [-29.1622],\n",
       "        [-38.6591],\n",
       "        [-48.1560],\n",
       "        [-57.6529],\n",
       "        [-67.1497],\n",
       "        [-76.6466],\n",
       "        [-86.1435],\n",
       "        [-95.6404]], grad_fn=<AddmmBackward0>)"
      ]
     },
     "execution_count": 128,
     "metadata": {},
     "output_type": "execute_result"
    }
   ],
   "source": [
    "model = nn.Linear(1, 1)\n",
    "criterion = nn.MSELoss()\n",
    "optimizer = torch.optim.SGD(model.parameters(), lr=1e-3)\n",
    "\n",
    "hat_y = model(X)\n",
    "hat_y"
   ]
  },
  {
   "cell_type": "code",
   "execution_count": 129,
   "metadata": {},
   "outputs": [
    {
     "data": {
      "text/plain": [
       "tensor(36513.8438, grad_fn=<MseLossBackward0>)"
      ]
     },
     "execution_count": 129,
     "metadata": {},
     "output_type": "execute_result"
    }
   ],
   "source": [
    "loss = criterion(hat_y, y)\n",
    "loss"
   ]
  },
  {
   "cell_type": "code",
   "execution_count": 130,
   "metadata": {},
   "outputs": [
    {
     "data": {
      "text/plain": [
       "(Parameter containing:\n",
       " tensor([[-0.9497]], requires_grad=True),\n",
       " Parameter containing:\n",
       " tensor([-0.6716], requires_grad=True))"
      ]
     },
     "execution_count": 130,
     "metadata": {},
     "output_type": "execute_result"
    }
   ],
   "source": [
    "model.weight, model.bias"
   ]
  },
  {
   "cell_type": "code",
   "execution_count": 131,
   "metadata": {},
   "outputs": [],
   "source": [
    "loss.backward() #Calcula los gradientes\n",
    "optimizer.step() #Actualiza los pesos"
   ]
  },
  {
   "cell_type": "code",
   "execution_count": 132,
   "metadata": {},
   "outputs": [
    {
     "data": {
      "text/plain": [
       "(Parameter containing:\n",
       " tensor([[21.5653]], requires_grad=True),\n",
       " Parameter containing:\n",
       " tensor([-0.3313], requires_grad=True))"
      ]
     },
     "execution_count": 132,
     "metadata": {},
     "output_type": "execute_result"
    }
   ],
   "source": [
    "model.weight, model.bias"
   ]
  },
  {
   "cell_type": "code",
   "execution_count": 133,
   "metadata": {},
   "outputs": [
    {
     "data": {
      "text/plain": [
       "tensor([[-3.3128e-01],\n",
       "        [ 2.1532e+02],\n",
       "        [ 4.3097e+02],\n",
       "        [ 6.4663e+02],\n",
       "        [ 8.6228e+02],\n",
       "        [ 1.0779e+03],\n",
       "        [ 1.2936e+03],\n",
       "        [ 1.5092e+03],\n",
       "        [ 1.7249e+03],\n",
       "        [ 1.9405e+03],\n",
       "        [ 2.1562e+03]], grad_fn=<AddmmBackward0>)"
      ]
     },
     "execution_count": 133,
     "metadata": {},
     "output_type": "execute_result"
    }
   ],
   "source": [
    "model(X)"
   ]
  },
  {
   "cell_type": "code",
   "execution_count": 157,
   "metadata": {},
   "outputs": [
    {
     "name": "stdout",
     "output_type": "stream",
     "text": [
      "Epoch 0 Loss 10793.6171875\n",
      "Epoch 1000 Loss 219.0149383544922\n",
      "Epoch 2000 Loss 155.28529357910156\n",
      "Epoch 3000 Loss 91.00506591796875\n",
      "Epoch 4000 Loss 42.21360778808594\n",
      "Epoch 5000 Loss 14.015032768249512\n",
      "Epoch 6000 Loss 2.6938226222991943\n",
      "Epoch 7000 Loss 0.19836531579494476\n",
      "Epoch 8000 Loss 0.0027117645367980003\n",
      "Epoch 9000 Loss 2.067573404929135e-06\n",
      "Epoch 10000 Loss 4.4135295418357146e-09\n",
      "Epoch 11000 Loss 1.6420513837545059e-09\n",
      "Epoch 12000 Loss 5.97951410608033e-10\n",
      "Epoch 13000 Loss 3.0294441955014406e-10\n",
      "Epoch 14000 Loss 4.927807814580909e-11\n",
      "Epoch 15000 Loss 5.556185733723851e-09\n",
      "Epoch 16000 Loss 9.524889904577449e-11\n",
      "Epoch 17000 Loss 9.524889904577449e-11\n",
      "Epoch 18000 Loss 5.461615728563629e-06\n",
      "Epoch 19000 Loss 0.001725174835883081\n",
      "Epoch 20000 Loss 2.728312153976731e-07\n",
      "Epoch 21000 Loss 2.728312153976731e-07\n",
      "Epoch 22000 Loss 0.0\n",
      "Epoch 23000 Loss 0.0\n",
      "Epoch 24000 Loss 0.0\n",
      "Entrada: 0.0°C, Predicción: 32.0°F, Real: 32.0°F\n",
      "Entrada: 10.0°C, Predicción: 50.0°F, Real: 50.0°F\n",
      "Entrada: 20.0°C, Predicción: 68.0°F, Real: 68.0°F\n",
      "Entrada: 30.0°C, Predicción: 86.0°F, Real: 86.0°F\n",
      "Entrada: 40.0°C, Predicción: 104.0°F, Real: 104.0°F\n",
      "Entrada: 50.0°C, Predicción: 122.0°F, Real: 122.0°F\n",
      "Entrada: 60.0°C, Predicción: 140.0°F, Real: 140.0°F\n",
      "Entrada: 70.0°C, Predicción: 158.0°F, Real: 158.0°F\n",
      "Entrada: 80.0°C, Predicción: 176.0°F, Real: 176.0°F\n",
      "Entrada: 90.0°C, Predicción: 194.0°F, Real: 194.0°F\n",
      "Entrada: 100.0°C, Predicción: 212.0°F, Real: 212.0°F\n"
     ]
    }
   ],
   "source": [
    "import torch\n",
    "import torch.nn as nn\n",
    "import torch.optim as optim\n",
    "\n",
    "X = torch.tensor([0, 10, 20, 30, 40, 50, 60, 70, 80, 90, 100], dtype=torch.float32).unsqueeze(1)\n",
    "Y = (X * 1.8) + 32\n",
    "\n",
    "model = nn.Linear(1, 1)\n",
    "criterion = nn.MSELoss()\n",
    "optimizer = optim.Adam(model.parameters(), lr=1e-2)\n",
    "\n",
    "\n",
    "for nepoch in range(25000):\n",
    "    hatY = model(X)\n",
    "    optimizer.zero_grad()\n",
    "    loss = criterion(hatY, Y)\n",
    "    loss.backward()\n",
    "    optimizer.step()\n",
    "    if nepoch % 1000 == 0:\n",
    "        print(f'Epoch {nepoch} Loss {loss.item()}')\n",
    "\n",
    "with torch.no_grad():\n",
    "    predicted = model(X)\n",
    "    for i in range(len(X)):\n",
    "        print(f'Entrada: {X[i].item():.1f}°C, Predicción: {predicted[i].item():.1f}°F, Real: {Y[i].item():.1f}°F')\n"
   ]
  },
  {
   "cell_type": "code",
   "execution_count": 158,
   "metadata": {},
   "outputs": [
    {
     "data": {
      "text/plain": [
       "(Parameter containing:\n",
       " tensor([[1.8000]], requires_grad=True),\n",
       " Parameter containing:\n",
       " tensor([32.], requires_grad=True))"
      ]
     },
     "execution_count": 158,
     "metadata": {},
     "output_type": "execute_result"
    }
   ],
   "source": [
    "model.weight, model.bias"
   ]
  },
  {
   "cell_type": "markdown",
   "metadata": {},
   "source": [
    "### Entrenamiento por minibatches"
   ]
  },
  {
   "cell_type": "code",
   "execution_count": 190,
   "metadata": {},
   "outputs": [
    {
     "data": {
      "text/plain": [
       "((tensor([-0.2327]), tensor([31.5812])), 10000)"
      ]
     },
     "execution_count": 190,
     "metadata": {},
     "output_type": "execute_result"
    }
   ],
   "source": [
    "import torch.utils.data as data\n",
    "X = np.random.randn(10000)\n",
    "y = X*1.8 + 32\n",
    "class MyDataset(data.Dataset):\n",
    "    def __init__(self, data: np.ndarray, labels: np.ndarray):\n",
    "        self.celsius = torch.from_numpy(data.astype('float32')).unsqueeze(1)\n",
    "        self.fahrenheit = torch.from_numpy(labels.astype('float32')).unsqueeze(1)\n",
    "        \n",
    "    def __getitem__(self, idx: int):\n",
    "        return (self.celsius[idx], self.fahrenheit[idx])\n",
    "    \n",
    "    def __len__(self):\n",
    "        return len(self.fahrenheit)\n",
    "    \n",
    "    \n",
    "dataset = MyDataset(X, y)\n",
    "\n",
    "dataset[0], len(dataset)"
   ]
  },
  {
   "cell_type": "code",
   "execution_count": 191,
   "metadata": {},
   "outputs": [],
   "source": [
    "train_set, valid_set, test_set = data.random_split(dataset, [6000, 2000, 2000], \n",
    "                                                   generator=torch.Generator().manual_seed(1234))"
   ]
  },
  {
   "cell_type": "code",
   "execution_count": 192,
   "metadata": {},
   "outputs": [],
   "source": [
    "train_loader = data.DataLoader(train_set, shuffle=True, batch_size=32)\n",
    "valid_loader = data.DataLoader(valid_set, shuffle=False, batch_size=128)\n",
    "test_loader = data.DataLoader(test_set, shuffle=False, batch_size=128)"
   ]
  },
  {
   "cell_type": "code",
   "execution_count": 193,
   "metadata": {},
   "outputs": [
    {
     "name": "stderr",
     "output_type": "stream",
     "text": [
      "  0%|          | 0/100 [00:00<?, ?it/s]c:\\Users\\llanking\\miniconda3\\envs\\torch-tuto\\Lib\\site-packages\\torch\\nn\\modules\\loss.py:535: UserWarning: Using a target size (torch.Size([32, 1])) that is different to the input size (torch.Size([32, 1, 1])). This will likely lead to incorrect results due to broadcasting. Please ensure they have the same size.\n",
      "  return F.mse_loss(input, target, reduction=self.reduction)\n",
      "c:\\Users\\llanking\\miniconda3\\envs\\torch-tuto\\Lib\\site-packages\\torch\\nn\\modules\\loss.py:535: UserWarning: Using a target size (torch.Size([16, 1])) that is different to the input size (torch.Size([16, 1, 1])). This will likely lead to incorrect results due to broadcasting. Please ensure they have the same size.\n",
      "  return F.mse_loss(input, target, reduction=self.reduction)\n",
      "c:\\Users\\llanking\\miniconda3\\envs\\torch-tuto\\Lib\\site-packages\\torch\\nn\\modules\\loss.py:535: UserWarning: Using a target size (torch.Size([128, 1])) that is different to the input size (torch.Size([128, 1, 1])). This will likely lead to incorrect results due to broadcasting. Please ensure they have the same size.\n",
      "  return F.mse_loss(input, target, reduction=self.reduction)\n",
      "c:\\Users\\llanking\\miniconda3\\envs\\torch-tuto\\Lib\\site-packages\\torch\\nn\\modules\\loss.py:535: UserWarning: Using a target size (torch.Size([80, 1])) that is different to the input size (torch.Size([80, 1, 1])). This will likely lead to incorrect results due to broadcasting. Please ensure they have the same size.\n",
      "  return F.mse_loss(input, target, reduction=self.reduction)\n",
      "  1%|          | 1/100 [00:00<00:22,  4.42it/s]"
     ]
    },
    {
     "name": "stdout",
     "output_type": "stream",
     "text": [
      "Epoch 0 Loss 960.1663818359375\n"
     ]
    },
    {
     "name": "stderr",
     "output_type": "stream",
     "text": [
      " 11%|█         | 11/100 [00:02<00:20,  4.32it/s]"
     ]
    },
    {
     "name": "stdout",
     "output_type": "stream",
     "text": [
      "Epoch 10 Loss 230.6049041748047\n"
     ]
    },
    {
     "name": "stderr",
     "output_type": "stream",
     "text": [
      " 21%|██        | 21/100 [00:04<00:17,  4.48it/s]"
     ]
    },
    {
     "name": "stdout",
     "output_type": "stream",
     "text": [
      "Epoch 20 Loss 23.135757446289062\n"
     ]
    },
    {
     "name": "stderr",
     "output_type": "stream",
     "text": [
      " 32%|███▏      | 32/100 [00:07<00:14,  4.57it/s]"
     ]
    },
    {
     "name": "stdout",
     "output_type": "stream",
     "text": [
      "Epoch 30 Loss 4.50108528137207\n"
     ]
    },
    {
     "name": "stderr",
     "output_type": "stream",
     "text": [
      " 42%|████▏     | 42/100 [00:09<00:12,  4.66it/s]"
     ]
    },
    {
     "name": "stdout",
     "output_type": "stream",
     "text": [
      "Epoch 40 Loss 4.435572624206543\n"
     ]
    },
    {
     "name": "stderr",
     "output_type": "stream",
     "text": [
      " 51%|█████     | 51/100 [00:11<00:11,  4.41it/s]"
     ]
    },
    {
     "name": "stdout",
     "output_type": "stream",
     "text": [
      "Epoch 50 Loss 4.43326473236084\n"
     ]
    },
    {
     "name": "stderr",
     "output_type": "stream",
     "text": [
      " 61%|██████    | 61/100 [00:13<00:08,  4.59it/s]"
     ]
    },
    {
     "name": "stdout",
     "output_type": "stream",
     "text": [
      "Epoch 60 Loss 4.436805248260498\n"
     ]
    },
    {
     "name": "stderr",
     "output_type": "stream",
     "text": [
      " 71%|███████   | 71/100 [00:16<00:07,  3.63it/s]"
     ]
    },
    {
     "name": "stdout",
     "output_type": "stream",
     "text": [
      "Epoch 70 Loss 4.439022541046143\n"
     ]
    },
    {
     "name": "stderr",
     "output_type": "stream",
     "text": [
      " 81%|████████  | 81/100 [00:18<00:04,  3.95it/s]"
     ]
    },
    {
     "name": "stdout",
     "output_type": "stream",
     "text": [
      "Epoch 80 Loss 4.434972763061523\n"
     ]
    },
    {
     "name": "stderr",
     "output_type": "stream",
     "text": [
      " 91%|█████████ | 91/100 [00:21<00:02,  4.32it/s]"
     ]
    },
    {
     "name": "stdout",
     "output_type": "stream",
     "text": [
      "Epoch 90 Loss 4.432310104370117\n"
     ]
    },
    {
     "name": "stderr",
     "output_type": "stream",
     "text": [
      "100%|██████████| 100/100 [00:23<00:00,  4.23it/s]\n"
     ]
    }
   ],
   "source": [
    "from tqdm import tqdm\n",
    "\n",
    "num_epochs = 100\n",
    "model = nn.Linear(1, 1)\n",
    "criterion = nn.MSELoss()\n",
    "optimizer = optim.Adam(model.parameters(), lr=1e-2)\n",
    "\n",
    "running_loss = np.zeros((num_epochs,2))\n",
    "for i in tqdm(range(num_epochs)):\n",
    "    train_loss,valid_loss = 0.0,0.0\n",
    "    for minibatch in train_loader:\n",
    "        optimizer.zero_grad()\n",
    "        x_batch,y_batch = minibatch\n",
    "        hat_y = model(x_batch.unsqueeze(1))\n",
    "        loss = criterion(hat_y, y_batch)\n",
    "        loss.backward()\n",
    "        optimizer.step()\n",
    "    for minibatch in valid_loader:\n",
    "        x_batch,y_batch = minibatch\n",
    "        hat_y = model(x_batch.unsqueeze(1))\n",
    "        loss = criterion(hat_y, y_batch)\n",
    "    if i%10 == 0:\n",
    "        print(f'Epoch {i} Loss {loss.item()}')\n"
   ]
  },
  {
   "cell_type": "code",
   "execution_count": 194,
   "metadata": {},
   "outputs": [
    {
     "data": {
      "text/plain": [
       "(Parameter containing:\n",
       " tensor([[0.0493]], requires_grad=True),\n",
       " Parameter containing:\n",
       " tensor([31.9856], requires_grad=True))"
      ]
     },
     "execution_count": 194,
     "metadata": {},
     "output_type": "execute_result"
    },
    {
     "ename": "",
     "evalue": "",
     "output_type": "error",
     "traceback": [
      "\u001b[1;31mThe Kernel crashed while executing code in the current cell or a previous cell. \n",
      "\u001b[1;31mPlease review the code in the cell(s) to identify a possible cause of the failure. \n",
      "\u001b[1;31mClick <a href='https://aka.ms/vscodeJupyterKernelCrash'>here</a> for more info. \n",
      "\u001b[1;31mView Jupyter <a href='command:jupyter.viewOutput'>log</a> for further details."
     ]
    }
   ],
   "source": [
    "model.weight, model.bias"
   ]
  },
  {
   "cell_type": "code",
   "execution_count": null,
   "metadata": {},
   "outputs": [],
   "source": []
  }
 ],
 "metadata": {
  "kernelspec": {
   "display_name": "torch-tuto",
   "language": "python",
   "name": "python3"
  },
  "language_info": {
   "codemirror_mode": {
    "name": "ipython",
    "version": 3
   },
   "file_extension": ".py",
   "mimetype": "text/x-python",
   "name": "python",
   "nbconvert_exporter": "python",
   "pygments_lexer": "ipython3",
   "version": "3.12.4"
  }
 },
 "nbformat": 4,
 "nbformat_minor": 2
}
