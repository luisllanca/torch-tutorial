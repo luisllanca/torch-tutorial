{
 "cells": [
  {
   "cell_type": "markdown",
   "metadata": {},
   "source": [
    "Para crear el ambiente: \n",
    "```\n",
    "conda create -n torch-tuto\n",
    "conda activate torch-tuto\n",
    "```  \n",
    "Para instalar PyTorch:\n",
    "```\n",
    "conda install pytorch torchvision torchaudio cpuonly -c pytorch\n",
    "```\n",
    "Otras librerías para correr este notebook:\n",
    "```\n",
    "conda install jupyter ipykernel matplotlib tqdm\n",
    "```"
   ]
  },
  {
   "cell_type": "markdown",
   "metadata": {},
   "source": [
    "### Tensores"
   ]
  },
  {
   "cell_type": "code",
   "execution_count": 1,
   "metadata": {},
   "outputs": [],
   "source": [
    "import torch"
   ]
  },
  {
   "cell_type": "code",
   "execution_count": 2,
   "metadata": {},
   "outputs": [
    {
     "data": {
      "text/plain": [
       "tensor([[0., 0.],\n",
       "        [0., 0.],\n",
       "        [0., 0.],\n",
       "        [0., 0.],\n",
       "        [0., 0.]])"
      ]
     },
     "execution_count": 2,
     "metadata": {},
     "output_type": "execute_result"
    }
   ],
   "source": [
    "torch.zeros((5,2))"
   ]
  },
  {
   "cell_type": "code",
   "execution_count": 3,
   "metadata": {},
   "outputs": [
    {
     "data": {
      "text/plain": [
       "tensor([1., 1., 1., 1., 1.])"
      ]
     },
     "execution_count": 3,
     "metadata": {},
     "output_type": "execute_result"
    }
   ],
   "source": [
    "torch.ones(5)"
   ]
  },
  {
   "cell_type": "code",
   "execution_count": 4,
   "metadata": {},
   "outputs": [
    {
     "data": {
      "text/plain": [
       "tensor([ 0.0000,  2.5000,  5.0000,  7.5000, 10.0000])"
      ]
     },
     "execution_count": 4,
     "metadata": {},
     "output_type": "execute_result"
    }
   ],
   "source": [
    "torch.linspace(0, 10, 5)"
   ]
  },
  {
   "cell_type": "code",
   "execution_count": 5,
   "metadata": {},
   "outputs": [
    {
     "data": {
      "text/plain": [
       "tensor([1., 2., 3., 4., 5.])"
      ]
     },
     "execution_count": 5,
     "metadata": {},
     "output_type": "execute_result"
    }
   ],
   "source": [
    "lista = [1, 2, 3, 4, 5]\n",
    "torch.Tensor(lista)"
   ]
  },
  {
   "cell_type": "code",
   "execution_count": 6,
   "metadata": {},
   "outputs": [
    {
     "data": {
      "text/plain": [
       "tensor([-0.3817, -0.6920,  0.1461, -0.6874, -1.0592, -1.7710, -0.7885,  0.1025,\n",
       "        -0.2129,  0.6133], dtype=torch.float64)"
      ]
     },
     "execution_count": 6,
     "metadata": {},
     "output_type": "execute_result"
    }
   ],
   "source": [
    "import numpy as np\n",
    "numpy_array = np.random.randn(10)\n",
    "torch_array = torch.from_numpy(numpy_array)\n",
    "torch_array"
   ]
  },
  {
   "cell_type": "code",
   "execution_count": 7,
   "metadata": {},
   "outputs": [
    {
     "data": {
      "text/plain": [
       "array([-0.38174445, -0.6919593 ,  0.14606596, -0.68741927, -1.05916597,\n",
       "       -1.77104651, -0.7884571 ,  0.10250225, -0.21289948,  0.61328992])"
      ]
     },
     "execution_count": 7,
     "metadata": {},
     "output_type": "execute_result"
    }
   ],
   "source": [
    "torch_array.numpy()"
   ]
  },
  {
   "cell_type": "markdown",
   "metadata": {},
   "source": [
    "### Atributos"
   ]
  },
  {
   "cell_type": "code",
   "execution_count": 8,
   "metadata": {},
   "outputs": [
    {
     "data": {
      "text/plain": [
       "(3, torch.Size([10, 20, 30]), torch.float32)"
      ]
     },
     "execution_count": 8,
     "metadata": {},
     "output_type": "execute_result"
    }
   ],
   "source": [
    "a = torch.randn(10, 20, 30)\n",
    "a.ndim, a.shape, a.dtype"
   ]
  },
  {
   "cell_type": "code",
   "execution_count": 9,
   "metadata": {},
   "outputs": [
    {
     "data": {
      "text/plain": [
       "tensor([0., 1., 2., 3., 4., 5., 6., 7., 8., 9.])"
      ]
     },
     "execution_count": 9,
     "metadata": {},
     "output_type": "execute_result"
    }
   ],
   "source": [
    "a = torch.linspace(0, 9, 10)\n",
    "a"
   ]
  },
  {
   "cell_type": "code",
   "execution_count": 10,
   "metadata": {},
   "outputs": [
    {
     "data": {
      "text/plain": [
       "tensor([[0., 1., 2., 3., 4.],\n",
       "        [5., 6., 7., 8., 9.]])"
      ]
     },
     "execution_count": 10,
     "metadata": {},
     "output_type": "execute_result"
    }
   ],
   "source": [
    "b = a.reshape(2, 5)\n",
    "b"
   ]
  },
  {
   "cell_type": "code",
   "execution_count": 11,
   "metadata": {},
   "outputs": [
    {
     "data": {
      "text/plain": [
       "tensor([[0., 5.],\n",
       "        [1., 6.],\n",
       "        [2., 7.],\n",
       "        [3., 8.],\n",
       "        [4., 9.]])"
      ]
     },
     "execution_count": 11,
     "metadata": {},
     "output_type": "execute_result"
    }
   ],
   "source": [
    "b.T"
   ]
  },
  {
   "cell_type": "code",
   "execution_count": 12,
   "metadata": {},
   "outputs": [
    {
     "data": {
      "text/plain": [
       "tensor([0., 1., 2., 3., 4., 5., 6., 7., 8., 9.])"
      ]
     },
     "execution_count": 12,
     "metadata": {},
     "output_type": "execute_result"
    }
   ],
   "source": [
    "b.flatten()"
   ]
  },
  {
   "cell_type": "code",
   "execution_count": 13,
   "metadata": {},
   "outputs": [
    {
     "data": {
      "text/plain": [
       "(tensor([[[0., 1., 2., 3., 4.]],\n",
       " \n",
       "         [[5., 6., 7., 8., 9.]]]),\n",
       " torch.Size([2, 1, 5]))"
      ]
     },
     "execution_count": 13,
     "metadata": {},
     "output_type": "execute_result"
    }
   ],
   "source": [
    "c = b.unsqueeze(1)\n",
    "c, c.shape"
   ]
  },
  {
   "cell_type": "code",
   "execution_count": 14,
   "metadata": {},
   "outputs": [
    {
     "data": {
      "text/plain": [
       "tensor([[0., 1., 2., 3., 4.],\n",
       "        [5., 6., 7., 8., 9.]])"
      ]
     },
     "execution_count": 14,
     "metadata": {},
     "output_type": "execute_result"
    }
   ],
   "source": [
    "c.squeeze()"
   ]
  },
  {
   "cell_type": "markdown",
   "metadata": {},
   "source": [
    "### Calculos"
   ]
  },
  {
   "cell_type": "code",
   "execution_count": 15,
   "metadata": {},
   "outputs": [
    {
     "data": {
      "text/plain": [
       "tensor([0., 1., 2., 3., 4., 5.])"
      ]
     },
     "execution_count": 15,
     "metadata": {},
     "output_type": "execute_result"
    }
   ],
   "source": [
    "data = torch.linspace(0, 5, steps=6)\n",
    "data"
   ]
  },
  {
   "cell_type": "code",
   "execution_count": 16,
   "metadata": {},
   "outputs": [
    {
     "data": {
      "text/plain": [
       "tensor([ 5.,  6.,  7.,  8.,  9., 10.])"
      ]
     },
     "execution_count": 16,
     "metadata": {},
     "output_type": "execute_result"
    }
   ],
   "source": [
    "data + 5"
   ]
  },
  {
   "cell_type": "code",
   "execution_count": 17,
   "metadata": {},
   "outputs": [
    {
     "data": {
      "text/plain": [
       "tensor([ 0.,  1.,  4.,  9., 16., 25.])"
      ]
     },
     "execution_count": 17,
     "metadata": {},
     "output_type": "execute_result"
    }
   ],
   "source": [
    "data.pow(2)"
   ]
  },
  {
   "cell_type": "code",
   "execution_count": 18,
   "metadata": {},
   "outputs": [
    {
     "data": {
      "text/plain": [
       "tensor([4., 5.])"
      ]
     },
     "execution_count": 18,
     "metadata": {},
     "output_type": "execute_result"
    }
   ],
   "source": [
    "mask = data > 3\n",
    "data[mask]"
   ]
  },
  {
   "cell_type": "markdown",
   "metadata": {},
   "source": [
    "### Construcción de redes neuronakles"
   ]
  },
  {
   "cell_type": "markdown",
   "metadata": {},
   "source": [
    "```\n",
    "y = w*x + b\n",
    "```"
   ]
  },
  {
   "cell_type": "code",
   "execution_count": 19,
   "metadata": {},
   "outputs": [
    {
     "data": {
      "text/plain": [
       "(Parameter containing:\n",
       " tensor([[0.1864, 0.4206, 0.2722],\n",
       "         [0.0099, 0.5627, 0.5694]], requires_grad=True),\n",
       " Parameter containing:\n",
       " tensor([-0.2912, -0.2110], requires_grad=True))"
      ]
     },
     "execution_count": 19,
     "metadata": {},
     "output_type": "execute_result"
    }
   ],
   "source": [
    "import torch.nn as nn\n",
    "\n",
    "capa = nn.Linear(3, 2)\n",
    "capa.weight, capa.bias"
   ]
  },
  {
   "cell_type": "markdown",
   "metadata": {},
   "source": [
    "<img src=\"data/ej1.jpg\"  width=\"1000\" height=\"600\">\n"
   ]
  },
  {
   "cell_type": "code",
   "execution_count": 20,
   "metadata": {},
   "outputs": [
    {
     "data": {
      "text/plain": [
       "0.26020000000000004"
      ]
     },
     "execution_count": 20,
     "metadata": {},
     "output_type": "execute_result"
    }
   ],
   "source": [
    "0.1771 * 1 + 0.4426 * 1 - 0.4689 * 1 + 0.1094"
   ]
  },
  {
   "cell_type": "code",
   "execution_count": 21,
   "metadata": {},
   "outputs": [
    {
     "data": {
      "text/plain": [
       "0.05900000000000001"
      ]
     },
     "execution_count": 21,
     "metadata": {},
     "output_type": "execute_result"
    }
   ],
   "source": [
    "0.1046 * 1 + 0.2171 * 1 - 0.3273 * 1 + 0.0646"
   ]
  },
  {
   "cell_type": "code",
   "execution_count": 22,
   "metadata": {},
   "outputs": [],
   "source": [
    "capa = nn.Linear(3, 3)"
   ]
  },
  {
   "cell_type": "code",
   "execution_count": 23,
   "metadata": {},
   "outputs": [
    {
     "data": {
      "text/plain": [
       "tensor([ 0.1177,  0.5345, -0.0447], grad_fn=<ViewBackward0>)"
      ]
     },
     "execution_count": 23,
     "metadata": {},
     "output_type": "execute_result"
    }
   ],
   "source": [
    "salida = capa.forward(torch.Tensor([1, 1, 1]))\n",
    "salida"
   ]
  },
  {
   "cell_type": "markdown",
   "metadata": {},
   "source": [
    "### Funciones de activacion"
   ]
  },
  {
   "cell_type": "markdown",
   "metadata": {},
   "source": [
    "$$\n",
    "\\text{ReLU}(x) = \\max(0, x)\n",
    "$$\n",
    "$$\n",
    "\\text{Sigmoide}(x) = \\frac{1}{1 + e^{-x}}\n",
    "$$"
   ]
  },
  {
   "cell_type": "code",
   "execution_count": 24,
   "metadata": {},
   "outputs": [
    {
     "data": {
      "image/png": "[encoded data removed]",
      "text/plain": [
       "<Figure size 500x200 with 3 Axes>"
      ]
     },
     "metadata": {},
     "output_type": "display_data"
    }
   ],
   "source": [
    "%matplotlib inline\n",
    "from matplotlib import pyplot as plt\n",
    "import torch.nn as nn\n",
    "\n",
    "data = torch.linspace(-5, 5, steps=100)\n",
    "activations = [nn.Sigmoid(), nn.ReLU(),nn.Tanh()]\n",
    "nombres = ['Sigmoid', 'ReLU','Tanh']\n",
    "fig, ax = plt.subplots(1, len(activations), figsize=(5, 2), tight_layout=True)\n",
    "for activation, ax_,nombre,out in zip(activations, ax, nombres,salida):\n",
    "    ax_.set_title(nombre + \" \"+ str(format(activation(out).item(), '.2f')))\n",
    "    ax_.plot(data, activation(data))"
   ]
  },
  {
   "cell_type": "markdown",
   "metadata": {},
   "source": [
    "### Definicion de modelos"
   ]
  },
  {
   "cell_type": "code",
   "execution_count": 25,
   "metadata": {},
   "outputs": [],
   "source": [
    "class MiClase(nn.Module):\n",
    "    def __init__(self,input_dim,hidden_dim,output_dim):\n",
    "        super(MiClase, self).__init__()\n",
    "        self.hidden = nn.Linear(input_dim, hidden_dim)\n",
    "        self.output = nn.Linear(hidden_dim, output_dim)\n",
    "        self.activation = nn.Sigmoid()\n",
    "    def forward(self, x):\n",
    "        x = self.hidden(x)\n",
    "        x = self.activation(x)\n",
    "        x = self.output(x)\n",
    "        return x"
   ]
  },
  {
   "cell_type": "markdown",
   "metadata": {},
   "source": [
    "### Funciones de costo y optimizadores"
   ]
  },
  {
   "cell_type": "markdown",
   "metadata": {},
   "source": [
    "Para entrenar una red neuronal debemos definir\n",
    "\n",
    "- Una función de costo: Aquello que vamos a minimizar\n",
    "\n",
    "- Un algoritmo de optimización: De que forma vamos a minimizar"
   ]
  },
  {
   "cell_type": "markdown",
   "metadata": {},
   "source": [
    "Con las redes neuronales se suelen solucionar 2 tipos de problemas, problemas de regresión y problemas de clasificación.\n",
    "    \n",
    "Para problemas de regresión se suele utilizar la función de costo ```MSE (Mean Squared Error)``` y para problemas de clasificación se suele utilizar la función de costo ```CrossEntropyLoss```."
   ]
  },
  {
   "cell_type": "code",
   "execution_count": 26,
   "metadata": {},
   "outputs": [
    {
     "data": {
      "text/plain": [
       "tensor([ 0.9274, -0.9024,  1.5618, -0.9167, -1.1856])"
      ]
     },
     "metadata": {},
     "output_type": "display_data"
    },
    {
     "data": {
      "text/plain": [
       "tensor([ 0.0641, -0.3651, -0.3274,  0.8265,  0.3642])"
      ]
     },
     "metadata": {},
     "output_type": "display_data"
    }
   ],
   "source": [
    "criterion = nn.MSELoss(reduction='mean')\n",
    "output = torch.randn(5)\n",
    "target = torch.randn(5)\n",
    "display(output,target)"
   ]
  },
  {
   "cell_type": "code",
   "execution_count": 27,
   "metadata": {},
   "outputs": [
    {
     "data": {
      "text/plain": [
       "tensor(2.0087)"
      ]
     },
     "execution_count": 27,
     "metadata": {},
     "output_type": "execute_result"
    }
   ],
   "source": [
    "loss = criterion(output, target)\n",
    "loss"
   ]
  },
  {
   "cell_type": "code",
   "execution_count": 28,
   "metadata": {},
   "outputs": [
    {
     "data": {
      "text/plain": [
       "tensor([[-1.0477,  2.2721, -0.4706, -0.1263,  0.5051],\n",
       "        [ 2.2203, -1.1293,  2.3201,  0.7857, -0.1120],\n",
       "        [ 0.4937, -1.0940,  1.7679,  0.2613, -0.6720],\n",
       "        [ 0.3746, -0.8031,  0.8944,  1.2732,  0.8788],\n",
       "        [ 0.7420,  1.3700, -1.1042, -0.7478,  0.2025]])"
      ]
     },
     "metadata": {},
     "output_type": "display_data"
    },
    {
     "data": {
      "text/plain": [
       "tensor([3, 2, 1, 1, 4])"
      ]
     },
     "metadata": {},
     "output_type": "display_data"
    }
   ],
   "source": [
    "import torch.nn.functional as F\n",
    "\n",
    "criterion = nn.CrossEntropyLoss()\n",
    "output = torch.randn(5,5)\n",
    "target = torch.empty(5, dtype=torch.long).random_(5)\n",
    "display(output,target)"
   ]
  },
  {
   "cell_type": "code",
   "execution_count": 29,
   "metadata": {},
   "outputs": [
    {
     "data": {
      "text/plain": [
       "tensor(2.3794)"
      ]
     },
     "execution_count": 29,
     "metadata": {},
     "output_type": "execute_result"
    }
   ],
   "source": [
    "loss = criterion(output, target)\n",
    "loss"
   ]
  },
  {
   "cell_type": "markdown",
   "metadata": {},
   "source": [
    "Para el algoritmo de optimización se suele utilizar el algoritmo ```SGD (Stochastic Gradient Descent)``` o ```Adam```."
   ]
  },
  {
   "cell_type": "code",
   "execution_count": 30,
   "metadata": {},
   "outputs": [
    {
     "data": {
      "text/plain": [
       "tensor([[  0.],\n",
       "        [ 10.],\n",
       "        [ 20.],\n",
       "        [ 30.],\n",
       "        [ 40.],\n",
       "        [ 50.],\n",
       "        [ 60.],\n",
       "        [ 70.],\n",
       "        [ 80.],\n",
       "        [ 90.],\n",
       "        [100.]])"
      ]
     },
     "execution_count": 30,
     "metadata": {},
     "output_type": "execute_result"
    }
   ],
   "source": [
    "X = torch.tensor([0,10,20,30,40,50,60,70,80,90,100], dtype=torch.float32).unsqueeze(1)\n",
    "y = torch.tensor([32.0,50.0,68.0,86.0,104.0,122.0,140.0,158.0,176.0,194.0,212.0]).unsqueeze(1)\n",
    "X"
   ]
  },
  {
   "cell_type": "code",
   "execution_count": 31,
   "metadata": {},
   "outputs": [
    {
     "data": {
      "text/plain": [
       "tensor([[ 32.],\n",
       "        [ 50.],\n",
       "        [ 68.],\n",
       "        [ 86.],\n",
       "        [104.],\n",
       "        [122.],\n",
       "        [140.],\n",
       "        [158.],\n",
       "        [176.],\n",
       "        [194.],\n",
       "        [212.]])"
      ]
     },
     "execution_count": 31,
     "metadata": {},
     "output_type": "execute_result"
    }
   ],
   "source": [
    "y"
   ]
  },
  {
   "cell_type": "code",
   "execution_count": 32,
   "metadata": {},
   "outputs": [
    {
     "data": {
      "text/plain": [
       "tensor([[ -0.9388],\n",
       "        [ -6.7645],\n",
       "        [-12.5901],\n",
       "        [-18.4157],\n",
       "        [-24.2414],\n",
       "        [-30.0670],\n",
       "        [-35.8926],\n",
       "        [-41.7183],\n",
       "        [-47.5439],\n",
       "        [-53.3696],\n",
       "        [-59.1952]], grad_fn=<AddmmBackward0>)"
      ]
     },
     "execution_count": 32,
     "metadata": {},
     "output_type": "execute_result"
    }
   ],
   "source": [
    "model = nn.Linear(1, 1)\n",
    "criterion = nn.MSELoss()\n",
    "optimizer = torch.optim.Adam(model.parameters(), lr=1e-3)\n",
    "\n",
    "hat_y = model(X)\n",
    "hat_y"
   ]
  },
  {
   "cell_type": "code",
   "execution_count": 33,
   "metadata": {},
   "outputs": [
    {
     "data": {
      "text/plain": [
       "tensor(28800.9824, grad_fn=<MseLossBackward0>)"
      ]
     },
     "execution_count": 33,
     "metadata": {},
     "output_type": "execute_result"
    }
   ],
   "source": [
    "loss = criterion(hat_y, y)\n",
    "loss"
   ]
  },
  {
   "cell_type": "code",
   "execution_count": 34,
   "metadata": {},
   "outputs": [
    {
     "data": {
      "text/plain": [
       "(Parameter containing:\n",
       " tensor([[-0.5826]], requires_grad=True),\n",
       " Parameter containing:\n",
       " tensor([-0.9388], requires_grad=True))"
      ]
     },
     "execution_count": 34,
     "metadata": {},
     "output_type": "execute_result"
    }
   ],
   "source": [
    "model.weight, model.bias"
   ]
  },
  {
   "cell_type": "code",
   "execution_count": 35,
   "metadata": {},
   "outputs": [],
   "source": [
    "loss.backward() #Calcula los gradientes\n",
    "optimizer.step() #Actualiza los pesos"
   ]
  },
  {
   "cell_type": "code",
   "execution_count": 36,
   "metadata": {},
   "outputs": [
    {
     "data": {
      "text/plain": [
       "(Parameter containing:\n",
       " tensor([[-0.5816]], requires_grad=True),\n",
       " Parameter containing:\n",
       " tensor([-0.9378], requires_grad=True))"
      ]
     },
     "execution_count": 36,
     "metadata": {},
     "output_type": "execute_result"
    }
   ],
   "source": [
    "model.weight, model.bias"
   ]
  },
  {
   "cell_type": "code",
   "execution_count": 37,
   "metadata": {},
   "outputs": [
    {
     "data": {
      "text/plain": [
       "tensor([[ -0.9378],\n",
       "        [ -6.7535],\n",
       "        [-12.5691],\n",
       "        [-18.3847],\n",
       "        [-24.2004],\n",
       "        [-30.0160],\n",
       "        [-35.8316],\n",
       "        [-41.6473],\n",
       "        [-47.4629],\n",
       "        [-53.2786],\n",
       "        [-59.0942]], grad_fn=<AddmmBackward0>)"
      ]
     },
     "execution_count": 37,
     "metadata": {},
     "output_type": "execute_result"
    }
   ],
   "source": [
    "model(X)"
   ]
  },
  {
   "cell_type": "code",
   "execution_count": 38,
   "metadata": {},
   "outputs": [
    {
     "name": "stdout",
     "output_type": "stream",
     "text": [
      "Epoch 0 Loss 5979.82861328125\n",
      "Epoch 1000 Loss 227.8923797607422\n",
      "Epoch 2000 Loss 144.40126037597656\n",
      "Epoch 3000 Loss 74.6468734741211\n",
      "Epoch 4000 Loss 29.814964294433594\n",
      "Epoch 5000 Loss 7.986509799957275\n",
      "Epoch 6000 Loss 1.0735673904418945\n",
      "Epoch 7000 Loss 0.042255550622940063\n",
      "Epoch 8000 Loss 0.00019666212028823793\n",
      "Epoch 9000 Loss 2.781565555665111e-08\n",
      "Epoch 10000 Loss 3.124693170875048e-09\n",
      "Epoch 11000 Loss 8.744377999470032e-10\n",
      "Epoch 12000 Loss 3.6545150239319923e-10\n",
      "Epoch 13000 Loss 1.0715501402858152e-10\n",
      "Epoch 14000 Loss 2.8756926440109964e-06\n",
      "Epoch 15000 Loss 9.874624993244652e-07\n",
      "Epoch 16000 Loss 0.0\n",
      "Epoch 17000 Loss 0.0\n",
      "Epoch 18000 Loss 0.0\n",
      "Epoch 19000 Loss 0.0\n",
      "Epoch 20000 Loss 0.0\n",
      "Epoch 21000 Loss 0.0\n",
      "Epoch 22000 Loss 0.0\n",
      "Epoch 23000 Loss 0.0\n",
      "Epoch 24000 Loss 0.0\n",
      "Entrada: 0.0°C, Predicción: 32.0°F, Real: 32.0°F\n",
      "Entrada: 10.0°C, Predicción: 50.0°F, Real: 50.0°F\n",
      "Entrada: 20.0°C, Predicción: 68.0°F, Real: 68.0°F\n",
      "Entrada: 30.0°C, Predicción: 86.0°F, Real: 86.0°F\n",
      "Entrada: 40.0°C, Predicción: 104.0°F, Real: 104.0°F\n",
      "Entrada: 50.0°C, Predicción: 122.0°F, Real: 122.0°F\n",
      "Entrada: 60.0°C, Predicción: 140.0°F, Real: 140.0°F\n",
      "Entrada: 70.0°C, Predicción: 158.0°F, Real: 158.0°F\n",
      "Entrada: 80.0°C, Predicción: 176.0°F, Real: 176.0°F\n",
      "Entrada: 90.0°C, Predicción: 194.0°F, Real: 194.0°F\n",
      "Entrada: 100.0°C, Predicción: 212.0°F, Real: 212.0°F\n"
     ]
    }
   ],
   "source": [
    "import torch\n",
    "import torch.nn as nn\n",
    "import torch.optim as optim\n",
    "\n",
    "X = torch.tensor([0, 10, 20, 30, 40, 50, 60, 70, 80, 90, 100], dtype=torch.float32).unsqueeze(1)\n",
    "Y = (X * 1.8) + 32\n",
    "\n",
    "model = nn.Linear(1, 1)\n",
    "criterion = nn.MSELoss()\n",
    "optimizer = optim.Adam(model.parameters(), lr=1e-2)\n",
    "\n",
    "\n",
    "for nepoch in range(25000):\n",
    "    hatY = model(X)\n",
    "    optimizer.zero_grad()\n",
    "    loss = criterion(hatY, Y)\n",
    "    loss.backward()\n",
    "    optimizer.step()\n",
    "    if nepoch % 1000 == 0:\n",
    "        print(f'Epoch {nepoch} Loss {loss.item()}')\n",
    "\n",
    "with torch.no_grad():\n",
    "    predicted = model(X)\n",
    "    for i in range(len(X)):\n",
    "        print(f'Entrada: {X[i].item():.1f}°C, Predicción: {predicted[i].item():.1f}°F, Real: {Y[i].item():.1f}°F')\n"
   ]
  },
  {
   "cell_type": "code",
   "execution_count": 39,
   "metadata": {},
   "outputs": [
    {
     "data": {
      "text/plain": [
       "(Parameter containing:\n",
       " tensor([[1.8000]], requires_grad=True),\n",
       " Parameter containing:\n",
       " tensor([32.], requires_grad=True))"
      ]
     },
     "execution_count": 39,
     "metadata": {},
     "output_type": "execute_result"
    }
   ],
   "source": [
    "model.weight, model.bias"
   ]
  },
  {
   "cell_type": "markdown",
   "metadata": {},
   "source": [
    "### Entrenamiento por minibatches"
   ]
  },
  {
   "cell_type": "code",
   "execution_count": 41,
   "metadata": {},
   "outputs": [
    {
     "data": {
      "text/plain": [
       "((tensor([834.9146]), tensor([1534.8463])), 10000)"
      ]
     },
     "execution_count": 41,
     "metadata": {},
     "output_type": "execute_result"
    }
   ],
   "source": [
    "import torch.utils.data as data\n",
    "X = np.random.uniform(-273,1000,10000)\n",
    "y = X*1.8 + 32\n",
    "class MyDataset(data.Dataset):\n",
    "    def __init__(self, data: np.ndarray, salida: np.ndarray):\n",
    "        self.celsius = torch.from_numpy(data.astype('float32')).unsqueeze(1)\n",
    "        self.fahrenheit = torch.from_numpy(salida.astype('float32')).unsqueeze(1)\n",
    "        \n",
    "    def __getitem__(self, idx: int):\n",
    "        return (self.celsius[idx], self.fahrenheit[idx])\n",
    "    \n",
    "    def __len__(self):\n",
    "        return len(self.fahrenheit)\n",
    "    \n",
    "    \n",
    "dataset = MyDataset(X, y)\n",
    "\n",
    "dataset[0], len(dataset)"
   ]
  },
  {
   "cell_type": "code",
   "execution_count": 42,
   "metadata": {},
   "outputs": [],
   "source": [
    "train_set, valid_set, test_set = data.random_split(dataset, [6000, 2000, 2000], \n",
    "                                                   generator=torch.Generator().manual_seed(1234))"
   ]
  },
  {
   "cell_type": "code",
   "execution_count": 43,
   "metadata": {},
   "outputs": [],
   "source": [
    "train_loader = data.DataLoader(train_set, shuffle=True, batch_size=32)\n",
    "valid_loader = data.DataLoader(valid_set, shuffle=False, batch_size=128)\n",
    "test_loader = data.DataLoader(test_set, shuffle=False, batch_size=128)"
   ]
  },
  {
   "cell_type": "code",
   "execution_count": 51,
   "metadata": {},
   "outputs": [
    {
     "name": "stderr",
     "output_type": "stream",
     "text": [
      "  2%|▏         | 2/100 [00:00<00:18,  5.34it/s]"
     ]
    },
    {
     "name": "stdout",
     "output_type": "stream",
     "text": [
      "Epoch 0 Loss 730713.75\n"
     ]
    },
    {
     "name": "stderr",
     "output_type": "stream",
     "text": [
      " 12%|█▏        | 12/100 [00:02<00:15,  5.66it/s]"
     ]
    },
    {
     "name": "stdout",
     "output_type": "stream",
     "text": [
      "Epoch 10 Loss 718806.75\n"
     ]
    },
    {
     "name": "stderr",
     "output_type": "stream",
     "text": [
      " 22%|██▏       | 22/100 [00:04<00:13,  5.65it/s]"
     ]
    },
    {
     "name": "stdout",
     "output_type": "stream",
     "text": [
      "Epoch 20 Loss 707178.1875\n"
     ]
    }
   ],
   "source": [
    "from tqdm import tqdm\n",
    "\n",
    "num_epochs = 100\n",
    "model = nn.Linear(1, 1)\n",
    "criterion = nn.MSELoss()\n",
    "optimizer = optim.Adam(model.parameters(), lr=1e-2)\n",
    "\n",
    "running_loss = np.zeros((num_epochs,2))\n",
    "for i in tqdm(range(num_epochs)):\n",
    "    for minibatch in train_loader:\n",
    "        optimizer.zero_grad()\n",
    "        x_batch,y_batch = minibatch\n",
    "        hat_y = model(x_batch.unsqueeze(1))\n",
    "        loss = criterion(hat_y, y_batch)\n",
    "        loss.backward()\n",
    "        optimizer.step()\n",
    "    for minibatch in valid_loader:\n",
    "        x_batch,y_batch = minibatch\n",
    "        hat_y = model(x_batch.unsqueeze(1))\n",
    "        loss = criterion(hat_y, y_batch)\n",
    "    if i%10 == 0:\n",
    "        print(f'Epoch {i} Loss {loss.item()}')\n"
   ]
  },
  {
   "cell_type": "code",
   "execution_count": 46,
   "metadata": {},
   "outputs": [
    {
     "data": {
      "text/plain": [
       "(Parameter containing:\n",
       " tensor([[0.7449]], requires_grad=True),\n",
       " Parameter containing:\n",
       " tensor([181.2383], requires_grad=True))"
      ]
     },
     "execution_count": 46,
     "metadata": {},
     "output_type": "execute_result"
    }
   ],
   "source": [
    "model.weight, model.bias"
   ]
  }
 ],
 "metadata": {
  "kernelspec": {
   "display_name": "torch-tuto",
   "language": "python",
   "name": "python3"
  },
  "language_info": {
   "codemirror_mode": {
    "name": "ipython",
    "version": 3
   },
   "file_extension": ".py",
   "mimetype": "text/x-python",
   "name": "python",
   "nbconvert_exporter": "python",
   "pygments_lexer": "ipython3",
   "version": "3.12.4"
  }
 },
 "nbformat": 4,
 "nbformat_minor": 2
}
